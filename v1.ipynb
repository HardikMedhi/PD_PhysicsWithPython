{
 "cells": [
  {
   "cell_type": "markdown",
   "metadata": {},
   "source": [
    "## Understanding Equations of **Uniformly** Accelerated Motion"
   ]
  },
  {
   "cell_type": "markdown",
   "metadata": {},
   "source": [
    "In Classical Mechanics, there are 3 equations for the motion of bodies which travel with a uniform acceleration. These equations give relationship between initial velocity ($u$), final velocity ($v$), time taken ($t$), acceleration ($a$) and distance ($s$) travelled by the bodies.\n",
    "\n",
    "\\begin{align}\n",
    "v &= u+at \\\\[5pt]\n",
    "s &= ut + \\frac{1}{2}at^2 \\\\[5pt]\n",
    "v^2 &= u^2 + 2as\n",
    "\\end{align}"
   ]
  },
  {
   "cell_type": "markdown",
   "metadata": {},
   "source": [
    "**Problem 1**: A racing car has a uniform acceleration of $4\\ m/s^2$. What distance will it cover in $10$ seconds after the start?"
   ]
  },
  {
   "cell_type": "code",
   "execution_count": null,
   "metadata": {},
   "outputs": [],
   "source": [
    "(1/2) * 4 * 10**2"
   ]
  },
  {
   "cell_type": "code",
   "execution_count": null,
   "metadata": {},
   "outputs": [],
   "source": [
    "# Given information\n",
    "a = 4 # m/s^2\n",
    "t = 10 # s\n",
    "u = 0 # m/s"
   ]
  },
  {
   "cell_type": "code",
   "execution_count": null,
   "metadata": {},
   "outputs": [],
   "source": [
    "s = u*t + (1/2) * a * t**2"
   ]
  },
  {
   "cell_type": "markdown",
   "metadata": {},
   "source": [
    "**Problem 2**: A scooter moving at a speed of $10\\ km/hr$ is stopped by applying brakes which produce a uniform acceleration of  $– 0.5\\ m/s^2$. How much distance will be covered by the scooter before it stops?"
   ]
  },
  {
   "cell_type": "code",
   "execution_count": null,
   "metadata": {},
   "outputs": [],
   "source": [
    "# Given information\n",
    "u = 10 # km/hr\n",
    "u = u * 1000 / 3600 # m/s\n",
    "v = 0 # m/s\n",
    "a = -0.5 # m/s^2"
   ]
  },
  {
   "cell_type": "markdown",
   "metadata": {},
   "source": [
    "\\begin{align*}\n",
    "v^2 &= u^2 + 2as \\\\[5pt]\n",
    "\\implies s &= \\frac{v^2 - u^2}{2a}\n",
    "\\end{align*}"
   ]
  },
  {
   "cell_type": "code",
   "execution_count": null,
   "metadata": {},
   "outputs": [],
   "source": [
    "s = (v**2 - u**2) / (2*a)"
   ]
  },
  {
   "cell_type": "code",
   "execution_count": null,
   "metadata": {},
   "outputs": [],
   "source": [
    "s"
   ]
  },
  {
   "cell_type": "markdown",
   "metadata": {},
   "source": [
    "### Plots"
   ]
  },
  {
   "cell_type": "code",
   "execution_count": null,
   "metadata": {},
   "outputs": [],
   "source": [
    "import numpy as np\n",
    "import matplotlib.pyplot as plt"
   ]
  },
  {
   "cell_type": "markdown",
   "metadata": {},
   "source": [
    "A racing car has a uniform acceleration of $4\\ m/s^2$. What distance will it cover in $10$ seconds after the start?"
   ]
  },
  {
   "cell_type": "code",
   "execution_count": null,
   "metadata": {},
   "outputs": [],
   "source": [
    "a = 4 # m/s^2\n",
    "u = 0 # m/s\n",
    "t_vals = np.linspace(0, 10, 100) # s\n",
    "s_vals = []\n",
    "v_vals = []\n",
    "\n",
    "for t in t_vals:\n",
    "    s = u*t + (1/2) * a * t**2\n",
    "    s_vals.append(s)\n",
    "\n",
    "    v = u + a*t\n",
    "    v_vals.append(v)"
   ]
  },
  {
   "cell_type": "code",
   "execution_count": null,
   "metadata": {},
   "outputs": [],
   "source": [
    "plt.plot(t_vals, s_vals)\n",
    "plt.xlabel(\"Time (s)\")\n",
    "plt.ylabel(\"Distance (m)\")\n",
    "plt.grid(True)"
   ]
  },
  {
   "cell_type": "code",
   "execution_count": null,
   "metadata": {},
   "outputs": [],
   "source": [
    "plt.plot(t_vals, v_vals)\n",
    "plt.xlabel(\"Time (s)\")\n",
    "plt.ylabel(\"Speed (m/s)\")\n",
    "plt.grid(True)"
   ]
  },
  {
   "cell_type": "code",
   "execution_count": 60,
   "metadata": {},
   "outputs": [
    {
     "data": {
      "image/png": "[encoded data removed]",
      "text/plain": [
       "<Figure size 640x480 with 1 Axes>"
      ]
     },
     "metadata": {},
     "output_type": "display_data"
    }
   ],
   "source": [
    "\n",
    "t_vals = np.array([0, 4, 10, 16])\n",
    "v_vals = np.array([0, 6, 6, 0])\n",
    "\n",
    "plt.plot(t_vals, v_vals)\n",
    "plt.xlabel(\"Time (s)\")\n",
    "plt.ylabel(\"Speed (m/s)\")\n",
    "plt.axvline(4, ls='dotted', color='k'); plt.axvline(10, ls='dotted', color='k')\n",
    "plt.grid(True)"
   ]
  },
  {
   "cell_type": "markdown",
   "metadata": {},
   "source": [
    "## Freely Falling Bodies"
   ]
  },
  {
   "cell_type": "markdown",
   "metadata": {},
   "source": [
    "For a body falling freely from a certain height, the acceleration is in the vertically downward direction and its magnitude is almost constant if the height is small as compared with the radius of the Earth ($6400\\ km$). This magnitude is approximately equal to $9.8\\ m/s^2$ and is denoted by the letter $g$.\n",
    "\n",
    "Let's take the vertically upward as the positive Y-axis. Then acceleration is along the negative Y-axis, hence $a=-g$. Then\n",
    "\n",
    "\\begin{align}\n",
    "v &= u - gt \\\\[5pt]\n",
    "y &= ut - \\frac{1}{2}gt^2 \\\\[5pt]\n",
    "v^2 &= u^2 - 2gy\n",
    "\\end{align}"
   ]
  },
  {
   "cell_type": "markdown",
   "metadata": {},
   "source": [
    "**Problem**: A ball is thrown up at a speed of $4\\ m/s$. Find the maximum height reached by the ball."
   ]
  },
  {
   "cell_type": "code",
   "execution_count": null,
   "metadata": {},
   "outputs": [],
   "source": [
    "# Given information\n",
    "u = 4 # m/s\n",
    "v = 0 # m/s\n",
    "g = 9.8\n",
    "a = -g # m/s^2"
   ]
  },
  {
   "cell_type": "markdown",
   "metadata": {},
   "source": [
    "\\begin{align*}\n",
    "v^2 &= u^2 - 2gh \\\\[5pt]\n",
    "h &= \\frac{v^2 - u^2}{-2g}\n",
    "\\end{align*}"
   ]
  },
  {
   "cell_type": "code",
   "execution_count": null,
   "metadata": {},
   "outputs": [],
   "source": [
    "h = (v**2 - u**2) / (2 * a)"
   ]
  },
  {
   "cell_type": "code",
   "execution_count": null,
   "metadata": {},
   "outputs": [],
   "source": [
    "h"
   ]
  },
  {
   "cell_type": "markdown",
   "metadata": {},
   "source": [
    "\\begin{align*}\n",
    "h(t) &= h_0 + ut + \\frac{1}{2}at^2 \\\\[5pt]\n",
    "h(t) &= h_0 + ut - \\frac{1}{2}gt^2\n",
    "\\end{align*}"
   ]
  },
  {
   "cell_type": "code",
   "execution_count": null,
   "metadata": {},
   "outputs": [],
   "source": [
    "def getHeight(h_0, u, a, t):\n",
    "    h = h_0 + u*t + (1/2)*a*t**2\n",
    "    return h\n",
    "\n",
    "def getVelocity(u, t):\n",
    "    v = u + a*t\n",
    "    return v"
   ]
  },
  {
   "cell_type": "code",
   "execution_count": null,
   "metadata": {},
   "outputs": [],
   "source": [
    "u = 4 # m/s\n",
    "v = 0 # m/s\n",
    "a = -9.8 # m/s^2\n",
    "h_0 = 0 # m\n",
    "\n",
    "time_vals = np.linspace(0, 2, 100)\n",
    "height_vals = []\n",
    "vel_vals = []\n",
    "for t in time_vals:\n",
    "    h = getHeight(h_0, u, a, t)\n",
    "    v = getVelocity(u, t)\n",
    "\n",
    "    if h < h_0:\n",
    "        h = 0\n",
    "        v = 0\n",
    "\n",
    "    height_vals.append(h)    \n",
    "    vel_vals.append(v)"
   ]
  },
  {
   "cell_type": "code",
   "execution_count": null,
   "metadata": {},
   "outputs": [],
   "source": [
    "plt.plot(time_vals, height_vals)\n",
    "plt.xlabel('Time (s)')\n",
    "plt.ylabel('Height (m)')\n",
    "plt.grid(True)"
   ]
  },
  {
   "cell_type": "code",
   "execution_count": null,
   "metadata": {},
   "outputs": [],
   "source": [
    "plt.plot(time_vals, vel_vals)\n",
    "plt.xlabel('Time (s)')\n",
    "plt.ylabel('Velocity (m/s)')\n",
    "plt.grid(True)"
   ]
  },
  {
   "cell_type": "code",
   "execution_count": null,
   "metadata": {},
   "outputs": [],
   "source": [
    "height_vals = getHeight(h_0, u, a, time_vals)\n",
    "vel_vals = getVelocity(u, time_vals)\n",
    "\n",
    "mask = height_vals < h_0\n",
    "height_vals[mask] = 0\n",
    "vel_vals[mask] = 0"
   ]
  },
  {
   "cell_type": "code",
   "execution_count": null,
   "metadata": {},
   "outputs": [],
   "source": [
    "plt.plot(time_vals, height_vals)\n",
    "plt.xlabel('Time (s)')\n",
    "plt.ylabel('Height (m)')\n",
    "plt.grid(True)"
   ]
  },
  {
   "cell_type": "code",
   "execution_count": null,
   "metadata": {},
   "outputs": [],
   "source": [
    "plt.plot(time_vals, vel_vals)\n",
    "plt.xlabel('Time (s)')\n",
    "plt.ylabel('Velocity (m/s)')\n",
    "plt.grid(True)"
   ]
  },
  {
   "cell_type": "code",
   "execution_count": null,
   "metadata": {},
   "outputs": [],
   "source": [
    "m = 1 # kg\n",
    "pe_vals = m * g * height_vals # J\n",
    "ke_vals = (1/2) * m * vel_vals**2 # J\n",
    "te_vals = pe_vals + ke_vals"
   ]
  },
  {
   "cell_type": "code",
   "execution_count": null,
   "metadata": {},
   "outputs": [],
   "source": [
    "plt.plot(time_vals, pe_vals, label='Potential Energy')\n",
    "plt.plot(time_vals, ke_vals, label='Kinetic Energy')\n",
    "plt.plot(time_vals, te_vals, label='Total Energy')\n",
    "plt.xlabel('Time (s)')\n",
    "plt.ylabel('Energy (J)')\n",
    "plt.legend(loc='best')\n",
    "plt.grid(True)"
   ]
  },
  {
   "cell_type": "code",
   "execution_count": null,
   "metadata": {},
   "outputs": [],
   "source": []
  }
 ],
 "metadata": {
  "kernelspec": {
   "display_name": "base",
   "language": "python",
   "name": "python3"
  },
  "language_info": {
   "codemirror_mode": {
    "name": "ipython",
    "version": 3
   },
   "file_extension": ".py",
   "mimetype": "text/x-python",
   "name": "python",
   "nbconvert_exporter": "python",
   "pygments_lexer": "ipython3",
   "version": "3.10.9"
  }
 },
 "nbformat": 4,
 "nbformat_minor": 2
}
